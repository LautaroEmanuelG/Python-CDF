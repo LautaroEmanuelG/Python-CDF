{
  "cells": [
    {
      "cell_type": "markdown",
      "metadata": {
        "id": "BCfVDi4Tb0Oq"
      },
      "source": [
        "# <center>**05 - FUNCIONES**</center>\n"
      ]
    },
    {
      "cell_type": "markdown",
      "metadata": {
        "id": "0jAZ2JRGb0Ou"
      },
      "source": [
        "Las funciones son bloques de código que se pueden ejecutar varias veces, con diferentes valores de entrada. Las funciones pueden ser llamadas desde cualquier parte de un programa. Esto reduce la repetición de código, lo que hace que el código sea más legible y fácil de mantener.\n"
      ]
    },
    {
      "cell_type": "markdown",
      "metadata": {
        "id": "nbPgkrPCb0Ov"
      },
      "source": [
        "## 5.1. Definición de funciones\n",
        "\n",
        "En Python, una función se define usando la palabra clave `def`:\n",
        "\n",
        "```python\n",
        "def mi_funcion():\n",
        "  print(\"Hola desde mi función\")\n",
        "```\n"
      ]
    },
    {
      "cell_type": "code",
      "execution_count": 2,
      "metadata": {
        "id": "wjOdc7_Kb0Ow"
      },
      "outputs": [],
      "source": [
        "def funcion_1():\n",
        "    print(\"Mi primera función\")"
      ]
    },
    {
      "cell_type": "markdown",
      "metadata": {
        "id": "xX2nthz9b0Ox"
      },
      "source": [
        "## 5.2. Llamada a funciones\n",
        "\n",
        "Para llamar a una función, usamos el nombre de la función seguido de paréntesis:\n"
      ]
    },
    {
      "cell_type": "code",
      "execution_count": 3,
      "metadata": {
        "id": "4PyAs6Axb0Ox",
        "outputId": "55ebf2dd-9175-4329-d12d-e534c47e3745",
        "colab": {
          "base_uri": "https://localhost:8080/"
        }
      },
      "outputs": [
        {
          "output_type": "stream",
          "name": "stdout",
          "text": [
            "Mi primera función\n"
          ]
        }
      ],
      "source": [
        "funcion_1()"
      ]
    },
    {
      "cell_type": "markdown",
      "metadata": {
        "id": "8k7SEGnxb0Oy"
      },
      "source": [
        "## 5.3. Argumentos\n",
        "\n",
        "La información se puede pasar a funciones como argumentos. Los argumentos se especifican después del nombre de la función, entre paréntesis. Se pueden agregar tantos argumentos como sean necesarios, para ello tenemos que separarlos con una coma.\n"
      ]
    },
    {
      "cell_type": "code",
      "execution_count": null,
      "metadata": {
        "id": "NJAjOYgYb0Oy",
        "outputId": "7d84f38e-a1be-4620-e28d-91af61f2ab4f"
      },
      "outputs": [
        {
          "name": "stdout",
          "output_type": "stream",
          "text": [
            "Mi nombre es Juan\n"
          ]
        }
      ],
      "source": [
        "def funcion_2(nombre):\n",
        "    print(\"Mi nombre es\", nombre)\n",
        "\n",
        "\n",
        "funcion_2(\"Juan\")"
      ]
    },
    {
      "cell_type": "markdown",
      "metadata": {
        "id": "DoO2sEm1b0Oz"
      },
      "source": [
        "> **Nota:** Si la función espera un argumento pero no se le proporciona ninguno, se producirá un error.\n"
      ]
    },
    {
      "cell_type": "code",
      "execution_count": null,
      "metadata": {
        "id": "DwgLdnqzb0Oz",
        "outputId": "d3a81a18-fe9a-4c3a-a919-dd83bb892892"
      },
      "outputs": [
        {
          "ename": "TypeError",
          "evalue": "funcion_2() missing 1 required positional argument: 'nombre'",
          "output_type": "error",
          "traceback": [
            "\u001b[1;31m---------------------------------------------------------------------------\u001b[0m",
            "\u001b[1;31mTypeError\u001b[0m                                 Traceback (most recent call last)",
            "\u001b[1;32mc:\\Users\\lucia\\OneDrive\\Documentos\\aESCUELA DE PROGRAMACION\\CURSO PYTHON - TEORIA\\FUNCIONES\\Funciones - teoria.ipynb Cell 11\u001b[0m line \u001b[0;36m1\n\u001b[1;32m----> <a href='vscode-notebook-cell:/c%3A/Users/lucia/OneDrive/Documentos/aESCUELA%20DE%20PROGRAMACION/CURSO%20PYTHON%20-%20TEORIA/FUNCIONES/Funciones%20-%20teoria.ipynb#X14sZmlsZQ%3D%3D?line=0'>1</a>\u001b[0m funcion_2()\n",
            "\u001b[1;31mTypeError\u001b[0m: funcion_2() missing 1 required positional argument: 'nombre'"
          ]
        }
      ],
      "source": [
        "funcion_2()"
      ]
    },
    {
      "cell_type": "markdown",
      "metadata": {
        "id": "HM5nL8jTb0Oz"
      },
      "source": [
        "Hay tres tipos de argumentos que podemos usar:\n",
        "\n",
        "- **Argumentos requeridos**\n",
        "- **Argumentos opcionales**\n",
        "- **Argumentos con nombre**\n"
      ]
    },
    {
      "cell_type": "markdown",
      "metadata": {
        "id": "tRTUyyU4b0O0"
      },
      "source": [
        "### 5.3.1. Argumentos requeridos\n",
        "\n",
        "Los argumentos requeridos son argumentos pasados a una función en un orden determinado. Este tipo de argumentos se requieren para que la función produzca un resultado.\n",
        "\n",
        "> **Nota:** Los argumentos deben pasarse en el mismo orden en que se declaran, ya que el valor se asigna por posición.\n"
      ]
    },
    {
      "cell_type": "code",
      "execution_count": null,
      "metadata": {
        "id": "_dr-v1qTb0O0",
        "outputId": "555b9ac3-7cb2-48e7-abab-bf0ad9cb1d75"
      },
      "outputs": [
        {
          "name": "stdout",
          "output_type": "stream",
          "text": [
            "Mi nombre es Jose y mi apellido es Sanchez\n"
          ]
        }
      ],
      "source": [
        "def funcion_3(nombre, apellido):\n",
        "    print(\"Mi nombre es\", nombre, \"y mi apellido es\", apellido)\n",
        "\n",
        "\n",
        "funcion_3(\"Jose\", \"Sanchez\")"
      ]
    },
    {
      "cell_type": "markdown",
      "metadata": {
        "id": "U7WCz0O7b0O0"
      },
      "source": [
        "### 5.3.2. Argumentos opcionales\n",
        "\n",
        "Los argumentos opcionales son argumentos que se pueden pasar a una función, pero no son obligatorios para que la función produzca un resultado.\n",
        "\n",
        "> **Nota:** Si se omite un argumento opcional, el valor predeterminado se utilizará en su lugar.\n"
      ]
    },
    {
      "cell_type": "code",
      "execution_count": null,
      "metadata": {
        "id": "iChpahjNb0O0",
        "outputId": "78298e28-834e-4c7d-effe-7abfc9a7cf4e"
      },
      "outputs": [
        {
          "name": "stdout",
          "output_type": "stream",
          "text": [
            "{'peras': 1, 'manzanas': 3}\n"
          ]
        }
      ],
      "source": [
        "lista_compras = {}\n",
        "\n",
        "\n",
        "def funcion_4(item, cantidad=1):\n",
        "    if item not in lista_compras:\n",
        "        lista_compras[item] = cantidad\n",
        "    else:\n",
        "        lista_compras[item] += cantidad\n",
        "\n",
        "\n",
        "funcion_4(\"peras\")  # no indicamos cantidad, por lo que se asume 1\n",
        "funcion_4(\"manzanas\", 3)\n",
        "\n",
        "print(lista_compras)"
      ]
    },
    {
      "cell_type": "markdown",
      "metadata": {
        "id": "_XiQqFZ3b0O0"
      },
      "source": [
        "### 5.3.3. Argumentos con nombre\n",
        "\n",
        "Los argumentos con nombre se refieren a los argumentos pasados a una función con una sintaxis de `nombre = valor`. De esta forma, el orden de los argumentos no importa.\n"
      ]
    },
    {
      "cell_type": "code",
      "execution_count": null,
      "metadata": {
        "id": "Cij2O2Urb0O0",
        "outputId": "4256ad68-4939-4494-954f-95b04ef64198"
      },
      "outputs": [
        {
          "name": "stdout",
          "output_type": "stream",
          "text": [
            "HolaHolaHola\n"
          ]
        }
      ],
      "source": [
        "def funcion_5(cadena, cantidad=1, multiplicar=False):\n",
        "    if multiplicar:\n",
        "        print(cadena * cantidad)\n",
        "    else:\n",
        "        print(cadena)\n",
        "\n",
        "\n",
        "funcion_5(\n",
        "    cantidad=3, multiplicar=True, cadena=\"Hola\"\n",
        ")  # podemos cambiar el orden de los argumentos"
      ]
    },
    {
      "cell_type": "markdown",
      "metadata": {
        "id": "RxEt674Nb0O1"
      },
      "source": [
        "Para especificar el tipo de datos que se espera en un argumento, se puede usar la notación de tipo de datos. Esto se hace agregando dos puntos `:` después del nombre del argumento, seguido del tipo de datos. Cabe aclarar que si bien especificamos el tipo de dato, no es obligatorio que se pase un argumento de ese tipo, ya que Python no es un lenguaje tipado.\n"
      ]
    },
    {
      "cell_type": "code",
      "execution_count": null,
      "metadata": {
        "id": "6P9hryTtb0O1",
        "outputId": "199b9944-42f5-4a7f-c8b5-69271f89e742"
      },
      "outputs": [
        {
          "data": {
            "text/plain": [
              "'Ford Fiesta'"
            ]
          },
          "execution_count": 13,
          "metadata": {},
          "output_type": "execute_result"
        }
      ],
      "source": [
        "def funcion_6(auto: str, modelo: str):\n",
        "    return auto + \" \" + modelo\n",
        "\n",
        "\n",
        "funcion_6(\"Ford\", \"Fiesta\")"
      ]
    },
    {
      "cell_type": "markdown",
      "metadata": {
        "id": "zuc3-Tlhb0O1"
      },
      "source": [
        "## 5.4. Retorno de valores\n",
        "\n",
        "Para que una función devuelva un valor, usamos la palabra clave `return`:\n"
      ]
    },
    {
      "cell_type": "code",
      "execution_count": null,
      "metadata": {
        "id": "DHSMFp2tb0O1",
        "outputId": "fe81dc23-3a17-491e-bd09-a32212cb4a47"
      },
      "outputs": [
        {
          "data": {
            "text/plain": [
              "25"
            ]
          },
          "execution_count": 14,
          "metadata": {},
          "output_type": "execute_result"
        }
      ],
      "source": [
        "def funcion_7(numero):\n",
        "    return numero**2\n",
        "\n",
        "\n",
        "funcion_7(5)"
      ]
    },
    {
      "cell_type": "markdown",
      "metadata": {
        "id": "x8nPx5XNb0O1"
      },
      "source": [
        "> **Nota:** Si la función no tiene una declaración de retorno, el valor predeterminado es `None`. `None` es un tipo de dato que representa la ausencia de un valor.\n"
      ]
    },
    {
      "cell_type": "markdown",
      "metadata": {
        "id": "tpTfSMpIb0O1"
      },
      "source": [
        "### 5.5. Funciones con múltiples argumentos\n",
        "\n",
        "Se pueden definir funciones con un número variable de argumentos."
      ]
    },
    {
      "cell_type": "markdown",
      "metadata": {
        "id": "8CmX7pKeb0O1"
      },
      "source": [
        "#### 5.5.1 Argumentos arbitrarios *args\n",
        "\n",
        "Si no sabemos cuántos argumentos se pasarán a la función, agregamos un `*` antes del nombre del parámetro en la definición de la función. De esta forma, la función recibirá una tupla de argumentos y podrá acceder a los elementos en consecuencia:"
      ]
    },
    {
      "cell_type": "code",
      "execution_count": null,
      "metadata": {
        "id": "iELtENgDb0O2",
        "outputId": "9c7b73af-24be-4583-b26d-859ae0b0d07b"
      },
      "outputs": [
        {
          "name": "stdout",
          "output_type": "stream",
          "text": [
            "(1, 2, 3, 4, 5)\n",
            "('Hola', 'Mundo')\n"
          ]
        }
      ],
      "source": [
        "def multiples_argumentos(*args):\n",
        "    print(args)\n",
        "\n",
        "multiples_argumentos(1, 2, 3, 4, 5)\n",
        "multiples_argumentos(\"Hola\", \"Mundo\")"
      ]
    },
    {
      "cell_type": "markdown",
      "metadata": {
        "id": "uieLJakVb0O2"
      },
      "source": [
        "Este tipo de argumentos se denominan argumentos arbitrarios y pueden ser de cualquier tipo. Por ejemplo, podemos enviar una lista, un diccionario o una tupla como argumento arbitrario. El nombre del argumento arbitrario no importa, excepto que debe comenzar con un asterisco `*`. Por ejemplo, `*args` o `*mi_argumento_arbitrario`."
      ]
    },
    {
      "cell_type": "code",
      "execution_count": null,
      "metadata": {
        "id": "XTTI4o1Eb0O2",
        "outputId": "47834b4b-52a6-41a2-93bc-44459f030bd7"
      },
      "outputs": [
        {
          "name": "stdout",
          "output_type": "stream",
          "text": [
            "[1, 2, 3]\n",
            "['1', '2', '3']\n"
          ]
        }
      ],
      "source": [
        "def multiples_datos(*args):\n",
        "    for arg in args:\n",
        "        print(arg)\n",
        "\n",
        "multiples_datos([1,2,3],[\"1\",\"2\",\"3\"])"
      ]
    },
    {
      "cell_type": "markdown",
      "metadata": {
        "id": "AAmE5hwMb0O2"
      },
      "source": [
        "De este modo podemos hacer compronaciones entre los argumentos que se pasan a la función y los argumentos que se esperan. Por ejemplo, si queremos que la función reciba al menos un argumento, podemos hacer lo siguiente:"
      ]
    },
    {
      "cell_type": "code",
      "execution_count": null,
      "metadata": {
        "id": "7HMZS1vDb0O2",
        "outputId": "61a3be34-c0fe-4129-a34f-962c6956679f"
      },
      "outputs": [
        {
          "name": "stdout",
          "output_type": "stream",
          "text": [
            "No se pasaron argumentos\n"
          ]
        }
      ],
      "source": [
        "def multiples_argumentos(*args):\n",
        "    if len(args) > 0:\n",
        "        print(args)\n",
        "    else:\n",
        "        print(\"No se pasaron argumentos\")\n",
        "\n",
        "multiples_argumentos()\n",
        "# multiples_argumentos(1, 2, 3, 4, 5)"
      ]
    },
    {
      "cell_type": "markdown",
      "metadata": {
        "id": "KHJr6npYb0O2"
      },
      "source": [
        "O bien, podemos realizar diferentes acciones según la cantidad de argumentos que se pasen:"
      ]
    },
    {
      "cell_type": "code",
      "execution_count": null,
      "metadata": {
        "id": "D2OaC6tgb0O2",
        "outputId": "0d174fb8-f070-4c51-869d-8a6ef86f29bc"
      },
      "outputs": [
        {
          "name": "stdout",
          "output_type": "stream",
          "text": [
            "No se pasaron argumentos\n",
            "Se pasó un argumento\n",
            "Se pasaron más de un argumento\n"
          ]
        }
      ],
      "source": [
        "def multiples_argumentos(*args):\n",
        "    if len(args) == 1:\n",
        "        print(\"Se pasó un argumento\")\n",
        "    elif len(args) > 1:\n",
        "        print(\"Se pasaron más de un argumento\")\n",
        "    else:\n",
        "        print(\"No se pasaron argumentos\")\n",
        "\n",
        "multiples_argumentos()\n",
        "multiples_argumentos(1)\n",
        "multiples_argumentos(1, 2, 3, 4, 5)"
      ]
    },
    {
      "cell_type": "markdown",
      "metadata": {
        "id": "6ATPE4PAb0O2"
      },
      "source": [
        "> **Nota:** Siempre debemos colocar los argumentos arbitrarios al final de la lista de argumentos obligatorios."
      ]
    },
    {
      "cell_type": "code",
      "execution_count": null,
      "metadata": {
        "id": "0wr1DHhGb0O2",
        "outputId": "a2135ab5-9dd4-485d-bfc9-15c2955ae617"
      },
      "outputs": [
        {
          "name": "stdout",
          "output_type": "stream",
          "text": [
            "['manzanas', 'peras', 'bananas']\n"
          ]
        }
      ],
      "source": [
        "lista_compras = []\n",
        "\n",
        "def agregar_item(lista_compras, *items):\n",
        "    for item in items:\n",
        "        lista_compras.append(item)\n",
        "    return lista_compras\n",
        "\n",
        "lista_compras = agregar_item(lista_compras, \"manzanas\", \"peras\", \"bananas\")\n",
        "print(lista_compras)"
      ]
    },
    {
      "cell_type": "markdown",
      "metadata": {
        "id": "jtxDAqlab0O3"
      },
      "source": [
        "#### 5.5.2 Argumentos de palabras clave arbitrarias **kwargs\n",
        "\n",
        "Si no sabemos cuántos argumentos de palabras clave se pasarán a la función, agregamos dos asteriscos `**` antes del nombre del parámetro en la definición de la función, generalmente se utiliza el nombre `**kwargs`. De esta forma, la función recibirá un diccionario de argumentos y podrá acceder a los elementos en consecuencia:"
      ]
    },
    {
      "cell_type": "code",
      "execution_count": null,
      "metadata": {
        "id": "iNPyxxLtb0O3",
        "outputId": "05414d29-cadf-4404-accd-cb46583ef905"
      },
      "outputs": [
        {
          "name": "stdout",
          "output_type": "stream",
          "text": [
            "{'manzanas': 4, 'bananas': 5, 'peras': 2}\n"
          ]
        }
      ],
      "source": [
        "compras_supermercado = {\"manzanas\": 1}\n",
        "\n",
        "def mostrar_compras(lista_compras):\n",
        "    for item, cantidad in lista_compras.items():\n",
        "        print(f\"{cantidad}x - {item}\")\n",
        "\n",
        "def agregar_item(compras_supermercado, **kwargs):\n",
        "    for item, cantidad in kwargs.items():\n",
        "        if item not in compras_supermercado:\n",
        "            compras_supermercado[item] = cantidad\n",
        "        else:\n",
        "            compras_supermercado[item] += cantidad\n",
        "    return compras_supermercado\n",
        "\n",
        "compras_supermercado = agregar_item(compras_supermercado, manzanas=3, bananas=5, peras=2)\n",
        "print(compras_supermercado)"
      ]
    },
    {
      "cell_type": "markdown",
      "metadata": {
        "id": "OiRGb23ob0O3"
      },
      "source": [
        "## 5.6. Funciones lambda\n",
        "\n",
        "Una función lambda es una pequeña función anónima. Una función lambda puede tomar cualquier número de argumentos, pero solo puede tener una expresión. La sintaxis de una función lambda es la siguiente:\n",
        "\n",
        "```python\n",
        "lambda argumentos : expresión\n",
        "```\n",
        "\n",
        "> **Nota:** Las funciones lambda no necesitan un nombre, por eso se las llama funciones anónimas.\n"
      ]
    },
    {
      "cell_type": "code",
      "execution_count": null,
      "metadata": {
        "id": "8vFLMnvqb0O3",
        "outputId": "25c13a36-7089-42b1-de13-0a3398fe36ed"
      },
      "outputs": [
        {
          "name": "stdout",
          "output_type": "stream",
          "text": [
            "25\n",
            "25\n"
          ]
        }
      ],
      "source": [
        "cuadrado = lambda x: x**2\n",
        "print(cuadrado(5))\n",
        "\n",
        "\n",
        "def fun_cuadrado(x):\n",
        "    return x**2\n",
        "\n",
        "\n",
        "print(fun_cuadrado(5))"
      ]
    },
    {
      "cell_type": "code",
      "execution_count": null,
      "metadata": {
        "id": "dYbyOFkub0O3",
        "outputId": "24f7356a-8ef5-4ffa-9c67-c966055d501e"
      },
      "outputs": [
        {
          "name": "stdout",
          "output_type": "stream",
          "text": [
            "False\n",
            "True\n"
          ]
        }
      ],
      "source": [
        "condicion = lambda x: True if x >= 10 else False\n",
        "print(condicion(5))\n",
        "print(condicion(15))"
      ]
    },
    {
      "cell_type": "code",
      "execution_count": null,
      "metadata": {
        "id": "2H52HfJsb0O3",
        "outputId": "734a6e7a-8ded-4fe8-849a-b459ff440983"
      },
      "outputs": [
        {
          "name": "stdout",
          "output_type": "stream",
          "text": [
            "['Brasil', 'Italia', 'España', 'Alemania', 'Francia', 'Argentina']\n",
            "Brasil 2002\n",
            "Italia 2006\n",
            "España 2010\n",
            "Alemania 2014\n",
            "Francia 2018\n",
            "Argentina 2022\n"
          ]
        }
      ],
      "source": [
        "campeones = {\"Argentina\": 2022, \"Italia\": 2006, \"Francia\": 2018, \"Alemania\": 2014, \"Brasil\": 2002, \"España\": 2010}\n",
        "\n",
        "ordenados = sorted(campeones, key=lambda x: campeones[x])\n",
        "\n",
        "for pais in ordenados:\n",
        "    print(pais, campeones[pais])"
      ]
    },
    {
      "cell_type": "markdown",
      "metadata": {
        "id": "ZbSTAShlb0O9"
      },
      "source": [
        "## 5.7. Funciones recursivas\n",
        "\n",
        "Una función recursiva es una función que se llama a sí misma. Esto tiene la ventaja de significar que puede recorrer datos para llegar a un resultado. El proceso de ejecución de una función se conoce como **pila**. Cada vez que llamamos a una función, se agrega un nuevo marco a la pila, que contiene todas las variables locales y los argumentos utilizados por la función. Cuando se devuelve un valor, el marco se elimina de la pila."
      ]
    },
    {
      "cell_type": "code",
      "execution_count": null,
      "metadata": {
        "id": "AwaJ5pxSb0O9",
        "outputId": "048b952c-b167-48fa-e065-b14f44d1ee4f"
      },
      "outputs": [
        {
          "name": "stdout",
          "output_type": "stream",
          "text": [
            "Vuelta: 9\n",
            "Vuelta: 8\n",
            "Vuelta: 7\n",
            "Vuelta: 6\n",
            "Vuelta: 5\n",
            "Vuelta: 4\n",
            "Vuelta: 3\n",
            "Vuelta: 2\n",
            "Vuelta: 1\n",
            "Vuelta: 0\n"
          ]
        }
      ],
      "source": [
        "def funcion_recursiva(vuelta):\n",
        "    if vuelta >= 10:\n",
        "        return\n",
        "    funcion_recursiva(vuelta + 1)\n",
        "    print(\"Vuelta:\", vuelta)\n",
        "\n",
        "funcion_recursiva(0)"
      ]
    },
    {
      "cell_type": "markdown",
      "metadata": {
        "id": "Y9kLmFROb0O9"
      },
      "source": [
        "<img src=\"recursividad.png\">"
      ]
    },
    {
      "cell_type": "markdown",
      "metadata": {
        "id": "7niCggEKb0O9"
      },
      "source": [
        "Si la pila se vuelve demasiado grande, se producirá un error de desbordamiento de pila."
      ]
    },
    {
      "cell_type": "code",
      "execution_count": null,
      "metadata": {
        "id": "-IKd-l8ob0O-",
        "outputId": "fbc6ecc4-e89c-4e72-b7b3-a1e9c32d3507"
      },
      "outputs": [
        {
          "ename": "RecursionError",
          "evalue": "maximum recursion depth exceeded",
          "output_type": "error",
          "traceback": [
            "\u001b[1;31m---------------------------------------------------------------------------\u001b[0m",
            "\u001b[1;31mRecursionError\u001b[0m                            Traceback (most recent call last)",
            "\u001b[1;32mc:\\Users\\lucia\\OneDrive\\Documentos\\aESCUELA DE PROGRAMACION\\CURSO PYTHON - TEORIA\\FUNCIONES\\Funciones - teoria.ipynb Cell 43\u001b[0m line \u001b[0;36m4\n\u001b[0;32m      <a href='vscode-notebook-cell:/c%3A/Users/lucia/OneDrive/Documentos/aESCUELA%20DE%20PROGRAMACION/CURSO%20PYTHON%20-%20TEORIA/FUNCIONES/Funciones%20-%20teoria.ipynb#Y111sZmlsZQ%3D%3D?line=0'>1</a>\u001b[0m \u001b[39mdef\u001b[39;00m \u001b[39mfuncion_rec_infinita\u001b[39m():\n\u001b[0;32m      <a href='vscode-notebook-cell:/c%3A/Users/lucia/OneDrive/Documentos/aESCUELA%20DE%20PROGRAMACION/CURSO%20PYTHON%20-%20TEORIA/FUNCIONES/Funciones%20-%20teoria.ipynb#Y111sZmlsZQ%3D%3D?line=1'>2</a>\u001b[0m     funcion_rec_infinita()\n\u001b[1;32m----> <a href='vscode-notebook-cell:/c%3A/Users/lucia/OneDrive/Documentos/aESCUELA%20DE%20PROGRAMACION/CURSO%20PYTHON%20-%20TEORIA/FUNCIONES/Funciones%20-%20teoria.ipynb#Y111sZmlsZQ%3D%3D?line=3'>4</a>\u001b[0m funcion_rec_infinita()\n",
            "\u001b[1;32mc:\\Users\\lucia\\OneDrive\\Documentos\\aESCUELA DE PROGRAMACION\\CURSO PYTHON - TEORIA\\FUNCIONES\\Funciones - teoria.ipynb Cell 43\u001b[0m line \u001b[0;36m2\n\u001b[0;32m      <a href='vscode-notebook-cell:/c%3A/Users/lucia/OneDrive/Documentos/aESCUELA%20DE%20PROGRAMACION/CURSO%20PYTHON%20-%20TEORIA/FUNCIONES/Funciones%20-%20teoria.ipynb#Y111sZmlsZQ%3D%3D?line=0'>1</a>\u001b[0m \u001b[39mdef\u001b[39;00m \u001b[39mfuncion_rec_infinita\u001b[39m():\n\u001b[1;32m----> <a href='vscode-notebook-cell:/c%3A/Users/lucia/OneDrive/Documentos/aESCUELA%20DE%20PROGRAMACION/CURSO%20PYTHON%20-%20TEORIA/FUNCIONES/Funciones%20-%20teoria.ipynb#Y111sZmlsZQ%3D%3D?line=1'>2</a>\u001b[0m     funcion_rec_infinita()\n",
            "\u001b[1;32mc:\\Users\\lucia\\OneDrive\\Documentos\\aESCUELA DE PROGRAMACION\\CURSO PYTHON - TEORIA\\FUNCIONES\\Funciones - teoria.ipynb Cell 43\u001b[0m line \u001b[0;36m2\n\u001b[0;32m      <a href='vscode-notebook-cell:/c%3A/Users/lucia/OneDrive/Documentos/aESCUELA%20DE%20PROGRAMACION/CURSO%20PYTHON%20-%20TEORIA/FUNCIONES/Funciones%20-%20teoria.ipynb#Y111sZmlsZQ%3D%3D?line=0'>1</a>\u001b[0m \u001b[39mdef\u001b[39;00m \u001b[39mfuncion_rec_infinita\u001b[39m():\n\u001b[1;32m----> <a href='vscode-notebook-cell:/c%3A/Users/lucia/OneDrive/Documentos/aESCUELA%20DE%20PROGRAMACION/CURSO%20PYTHON%20-%20TEORIA/FUNCIONES/Funciones%20-%20teoria.ipynb#Y111sZmlsZQ%3D%3D?line=1'>2</a>\u001b[0m     funcion_rec_infinita()\n",
            "    \u001b[1;31m[... skipping similar frames: funcion_rec_infinita at line 2 (2971 times)]\u001b[0m\n",
            "\u001b[1;32mc:\\Users\\lucia\\OneDrive\\Documentos\\aESCUELA DE PROGRAMACION\\CURSO PYTHON - TEORIA\\FUNCIONES\\Funciones - teoria.ipynb Cell 43\u001b[0m line \u001b[0;36m2\n\u001b[0;32m      <a href='vscode-notebook-cell:/c%3A/Users/lucia/OneDrive/Documentos/aESCUELA%20DE%20PROGRAMACION/CURSO%20PYTHON%20-%20TEORIA/FUNCIONES/Funciones%20-%20teoria.ipynb#Y111sZmlsZQ%3D%3D?line=0'>1</a>\u001b[0m \u001b[39mdef\u001b[39;00m \u001b[39mfuncion_rec_infinita\u001b[39m():\n\u001b[1;32m----> <a href='vscode-notebook-cell:/c%3A/Users/lucia/OneDrive/Documentos/aESCUELA%20DE%20PROGRAMACION/CURSO%20PYTHON%20-%20TEORIA/FUNCIONES/Funciones%20-%20teoria.ipynb#Y111sZmlsZQ%3D%3D?line=1'>2</a>\u001b[0m     funcion_rec_infinita()\n",
            "\u001b[1;31mRecursionError\u001b[0m: maximum recursion depth exceeded"
          ]
        }
      ],
      "source": [
        "def funcion_rec_infinita():\n",
        "    funcion_rec_infinita()\n",
        "\n",
        "funcion_rec_infinita()"
      ]
    },
    {
      "cell_type": "markdown",
      "metadata": {
        "id": "zF7od-ynb0O-"
      },
      "source": [
        "> **Nota:** Es importante tener en cuenta que las funciones recursivas pueden ser ineficientes, ya que se asigna memoria para cada llamada a la función. Si se utiliza una función recursiva, es importante tener una condición de parada, es decir, una condición que detenga la recursividad."
      ]
    }
  ],
  "metadata": {
    "kernelspec": {
      "display_name": "Python 3",
      "language": "python",
      "name": "python3"
    },
    "language_info": {
      "codemirror_mode": {
        "name": "ipython",
        "version": 3
      },
      "file_extension": ".py",
      "mimetype": "text/x-python",
      "name": "python",
      "nbconvert_exporter": "python",
      "pygments_lexer": "ipython3",
      "version": "3.11.4"
    },
    "colab": {
      "provenance": []
    }
  },
  "nbformat": 4,
  "nbformat_minor": 0
}