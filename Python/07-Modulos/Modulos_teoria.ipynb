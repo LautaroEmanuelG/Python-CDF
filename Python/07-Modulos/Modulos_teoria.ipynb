{
  "cells": [
    {
      "cell_type": "markdown",
      "metadata": {
        "id": "Rr1_LOnbfeke"
      },
      "source": [
        "# <center>**07 - MODULOS**</center>"
      ]
    },
    {
      "cell_type": "markdown",
      "metadata": {
        "id": "JcsNBk3ofekh"
      },
      "source": [
        "Un módulo es un archivo que contiene definiciones y declaraciones de Python. La extensión de archivo de un módulo de Python es .py. Un módulo puede definir funciones, clases y variables. Un módulo también puede incluir código ejecutable. Los grupos de módulos relacionados forman un paquete.\n",
        "\n",
        "Un módulo puede ser importado por otro programa para hacer uso de sus funcionalidades."
      ]
    },
    {
      "cell_type": "markdown",
      "metadata": {
        "id": "WI4tCIGafeki"
      },
      "source": [
        "## 7.1. Importando un módulo\n",
        "\n",
        "Podemos importar un módulo usando la instrucción `import`. Por ejemplo, para importar el módulo matemático, que se denomina `math`, usamos la siguiente instrucción:"
      ]
    },
    {
      "cell_type": "code",
      "execution_count": null,
      "metadata": {
        "id": "hcEjnQkKfeki"
      },
      "outputs": [],
      "source": [
        "import math"
      ]
    },
    {
      "cell_type": "markdown",
      "metadata": {
        "id": "F7wyTuI3fekk"
      },
      "source": [
        "Una vez importado el módulo, podemos acceder a las funciones que este contiene usando el operador punto. Por ejemplo:"
      ]
    },
    {
      "cell_type": "code",
      "execution_count": null,
      "metadata": {
        "id": "FBSsX2E7fekl",
        "outputId": "d76abd6a-fccd-4907-ece9-af7142f263dd"
      },
      "outputs": [
        {
          "name": "stdout",
          "output_type": "stream",
          "text": [
            "3.1622776601683795\n"
          ]
        }
      ],
      "source": [
        "numero = 10\n",
        "raiz = math.sqrt(numero)\n",
        "print(raiz)"
      ]
    },
    {
      "cell_type": "markdown",
      "metadata": {
        "id": "A8knL79Mfekm"
      },
      "source": [
        "> **Nota:** El operador punto se utiliza para indicar que la función `sqrt()` está definida dentro del módulo `math`."
      ]
    },
    {
      "cell_type": "markdown",
      "metadata": {
        "id": "mEnyKUldfekn"
      },
      "source": [
        "Existen varias formas de importar un módulo:"
      ]
    },
    {
      "cell_type": "code",
      "execution_count": null,
      "metadata": {
        "id": "QK81U4Klfekn"
      },
      "outputs": [],
      "source": [
        "from math import sqrt # Importa solo la funcion sqrt\n",
        "from math import sqrt, pi # Importa las funciones sqrt y pi\n",
        "from math import * # Importa todas las funciones de math"
      ]
    },
    {
      "cell_type": "code",
      "execution_count": null,
      "metadata": {
        "id": "nXaDkETYfekn"
      },
      "outputs": [],
      "source": [
        "import math as m # Importa el modulo math y lo renombra como m\n",
        "\n",
        "raiz = m.sqrt(numero)"
      ]
    },
    {
      "cell_type": "code",
      "execution_count": null,
      "metadata": {
        "id": "wQz5tHXzfeko",
        "outputId": "453dd30b-7dce-4d0c-a114-307128db0921"
      },
      "outputs": [
        {
          "name": "stdout",
          "output_type": "stream",
          "text": [
            "3.1622776601683795\n"
          ]
        }
      ],
      "source": [
        "from math import sqrt as raiz_c # Importa la funcion sqrt y la renombra como raiz_c\n",
        "\n",
        "raiz = raiz_c(numero)\n",
        "print(raiz)"
      ]
    },
    {
      "cell_type": "markdown",
      "metadata": {
        "id": "MFw5i1eifeko"
      },
      "source": [
        "## 7.2. Creando un módulo\n",
        "\n",
        "Podemos crear nuestros propios módulos en Python. Un módulo puede contener funciones, clases y variables, así como sentencias de código ejecutable. Un módulo se crea usando un archivo con extensión `.py` que contiene las definiciones y declaraciones de Python."
      ]
    },
    {
      "cell_type": "code",
      "execution_count": null,
      "metadata": {
        "id": "4LWdBS5Kfeko",
        "outputId": "d046aa24-a51c-4f91-b3a9-8c09765f5104"
      },
      "outputs": [
        {
          "name": "stdout",
          "output_type": "stream",
          "text": [
            "Hola, soy una función en mi_modulo.py\n",
            "299792458\n"
          ]
        }
      ],
      "source": [
        "import mi_modulo\n",
        "\n",
        "mi_modulo.saludar()\n",
        "\n",
        "print(mi_modulo.VELOCIDAD_LUZ)"
      ]
    },
    {
      "cell_type": "markdown",
      "metadata": {
        "id": "yTrSSprifeko"
      },
      "source": [
        "> **Nota:** El archivo `modulo.py` debe estar en el mismo directorio que el programa que lo importa."
      ]
    },
    {
      "cell_type": "markdown",
      "metadata": {
        "id": "hboT9B4-feko"
      },
      "source": [
        "## 7.3. Evitando que un módulo se ejecute al importarlo\n",
        "\n",
        "Cuando importamos un módulo, Python ejecuta todo el código que se encuentra en el módulo. Si queremos evitar que se ejecute el código al importar el módulo, debemos colocar el código dentro de un bloque `if` de la siguiente forma:"
      ]
    },
    {
      "cell_type": "code",
      "execution_count": null,
      "metadata": {
        "id": "-u439Vthfeko"
      },
      "outputs": [],
      "source": [
        "if __name__ == '__main__':\n",
        "    # Hacer algo\n",
        "    pass"
      ]
    },
    {
      "cell_type": "markdown",
      "metadata": {
        "id": "Etow5JN3fekp"
      },
      "source": [
        "> **Nota:** Revisar los archivos principal.py y mi_modulo.py para comprender mejor este concepto."
      ]
    }
  ],
  "metadata": {
    "kernelspec": {
      "display_name": "Python 3",
      "language": "python",
      "name": "python3"
    },
    "language_info": {
      "codemirror_mode": {
        "name": "ipython",
        "version": 3
      },
      "file_extension": ".py",
      "mimetype": "text/x-python",
      "name": "python",
      "nbconvert_exporter": "python",
      "pygments_lexer": "ipython3",
      "version": "3.11.4"
    },
    "colab": {
      "provenance": []
    }
  },
  "nbformat": 4,
  "nbformat_minor": 0
}